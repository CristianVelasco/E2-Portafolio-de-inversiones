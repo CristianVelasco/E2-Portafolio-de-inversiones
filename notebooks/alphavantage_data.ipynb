{
 "cells": [
  {
   "cell_type": "markdown",
   "id": "373c1bcf",
   "metadata": {},
   "source": [
    "### Obtencion de la data alphavantage"
   ]
  },
  {
   "cell_type": "code",
   "execution_count": 1,
   "id": "a6b98edb",
   "metadata": {},
   "outputs": [],
   "source": [
    "import requests\n",
    "import pandas as pd\n",
    "import time"
   ]
  },
  {
   "cell_type": "code",
   "execution_count": null,
   "id": "052ea260",
   "metadata": {},
   "outputs": [],
   "source": [
    "api_key = 'S1RJOEUV9F1RS2C7'"
   ]
  },
  {
   "cell_type": "code",
   "execution_count": null,
   "id": "b8bda6c6",
   "metadata": {},
   "outputs": [
    {
     "name": "stdout",
     "output_type": "stream",
     "text": [
      "      symbol                                             name   exchange  \\\n",
      "0          A                         Agilent Technologies Inc       NYSE   \n",
      "1         AA                                       Alcoa Corp       NYSE   \n",
      "2        AAA  ALTERNATIVE ACCESS FIRST PRIORITY CLO BOND ETF   NYSE ARCA   \n",
      "3       AAAU                  Goldman Sachs Physical Gold ETF       BATS   \n",
      "4      AACBR                 Artius II Acquisition Inc Rights     NASDAQ   \n",
      "...      ...                                              ...        ...   \n",
      "11810   ZYME                                 Zymeworks BC Inc     NASDAQ   \n",
      "11811   ZYNE                      Zynerba Pharmaceuticals Inc     NASDAQ   \n",
      "11812   ZYXI                                        Zynex Inc     NASDAQ   \n",
      "11813    ZZK                                              NaN  NYSE ARCA   \n",
      "11814    ZZZ                              TEST TICKER FOR UTP  NYSE ARCA   \n",
      "\n",
      "      assetType     ipoDate  delistingDate  status  \n",
      "0         Stock  1999-11-18            NaN  Active  \n",
      "1         Stock  2016-10-18            NaN  Active  \n",
      "2           ETF  2020-09-09            NaN  Active  \n",
      "3           ETF  2018-08-15            NaN  Active  \n",
      "4         Stock  2025-04-07            NaN  Active  \n",
      "...         ...         ...            ...     ...  \n",
      "11810     Stock  2017-04-28            NaN  Active  \n",
      "11811     Stock  2015-08-05            NaN  Active  \n",
      "11812     Stock  2012-07-23            NaN  Active  \n",
      "11813     Stock  2020-07-22            NaN  Active  \n",
      "11814     Stock  2014-10-31            NaN  Active  \n",
      "\n",
      "[11815 rows x 7 columns]\n"
     ]
    }
   ],
   "source": [
    "api_key = 'TU_API_KEY'\n",
    "url = f'https://www.alphavantage.co/query?function=LISTING_STATUS&apikey={api_key}&datatype=csv'\n",
    "\n",
    "df_symbols = pd.read_csv(url)\n",
    "df_symbols"
   ]
  },
  {
   "cell_type": "code",
   "execution_count": null,
   "id": "afe143b6",
   "metadata": {},
   "outputs": [
    {
     "name": "stdout",
     "output_type": "stream",
     "text": [
      "Descargando datos de: EC\n",
      "⚠️ No se encontraron datos para EC\n",
      "Descargando datos de: CIB\n",
      "⚠️ No se encontraron datos para CIB\n",
      "Descargando datos de: AVAL\n",
      "⚠️ No se encontraron datos para AVAL\n",
      "Descargando datos de: EXTO-W\n",
      "⚠️ No se encontraron datos para EXTO-W\n",
      "Descargando datos de: CMSA\n",
      "⚠️ No se encontraron datos para CMSA\n",
      "Descargando datos de: NU\n",
      "⚠️ No se encontraron datos para NU\n",
      "Descargando datos de: ICAP\n",
      "⚠️ No se encontraron datos para ICAP\n"
     ]
    }
   ],
   "source": [
    "symbols = ['EC', 'CIB', 'AVAL','EXTO-W','CMSA','NU','ICAP']\n",
    "\n",
    "url = 'https://www.alphavantage.co/query'\n",
    "\n",
    "dfs = {}\n",
    "\n",
    "for symbol in symbols:\n",
    "    print(f\"Descargando datos de: {symbol}\")\n",
    "\n",
    "    params = {\n",
    "        'function': 'TIME_SERIES_DAILY_ADJUSTED',\n",
    "        'symbol': symbol,\n",
    "        'outputsize': 'full',\n",
    "        'apikey': api_key\n",
    "    }\n",
    "\n",
    "    response = requests.get(url, params=params)\n",
    "    data = response.json()\n",
    "\n",
    "    time_series = data.get('Time Series (Daily)', {})\n",
    "\n",
    "    if not time_series:\n",
    "        print(f\"⚠️ No se encontraron datos para {symbol}\")\n",
    "        continue\n",
    "\n",
    "    df = pd.DataFrame.from_dict(time_series, orient='index')\n",
    "    df.index = pd.to_datetime(df.index)\n",
    "    df = df.sort_index()\n",
    "\n",
    "    df.columns = [\n",
    "        'open', 'high', 'low', 'close', 'adjusted_close',\n",
    "        'volume', 'dividend_amount', 'split_coefficient'\n",
    "    ]\n",
    "\n",
    "    dfs[symbol] = df\n",
    "\n",
    "    time.sleep(15)"
   ]
  }
 ],
 "metadata": {
  "kernelspec": {
   "display_name": "E2venv",
   "language": "python",
   "name": "python3"
  },
  "language_info": {
   "codemirror_mode": {
    "name": "ipython",
    "version": 3
   },
   "file_extension": ".py",
   "mimetype": "text/x-python",
   "name": "python",
   "nbconvert_exporter": "python",
   "pygments_lexer": "ipython3",
   "version": "3.9.12"
  }
 },
 "nbformat": 4,
 "nbformat_minor": 5
}
